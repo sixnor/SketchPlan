{
 "cells": [
  {
   "cell_type": "code",
   "execution_count": 75,
   "metadata": {},
   "outputs": [],
   "source": [
    "import numpy as np\n",
    "import plotly.express as px\n",
    "import pandas as pd\n",
    "\n",
    "def trajAffine(traj,scale,c2w):\n",
    "    traj = np.vstack([scale*traj, np.ones(traj.shape[1])])\n",
    "    traj = (c2w @ traj).T\n",
    "    traj = traj[:,:-1]\n",
    "    return traj"
   ]
  },
  {
   "cell_type": "code",
   "execution_count": 62,
   "metadata": {},
   "outputs": [],
   "source": [
    "data_folder = \"drawing/data/\"\n",
    "test_df = pd.read_pickle(f\"../{data_folder}flight_test.pkl\")\n",
    "test_df_human = test_df[~test_df[\"2d_human\"].isna()]"
   ]
  },
  {
   "cell_type": "code",
   "execution_count": 64,
   "metadata": {},
   "outputs": [],
   "source": [
    "t =np.stack(test_df_human[\"3d_gt\"])"
   ]
  },
  {
   "cell_type": "code",
   "execution_count": 52,
   "metadata": {},
   "outputs": [
    {
     "name": "stdout",
     "output_type": "stream",
     "text": [
      "-1.0381944599688318\n"
     ]
    },
    {
     "data": {
      "text/plain": [
       "np.int64(103)"
      ]
     },
     "execution_count": 52,
     "metadata": {},
     "output_type": "execute_result"
    }
   ],
   "source": [
    "print(np.min(t[:,-1,1]))\n",
    "np.argmin(t[:,-1,1])\n"
   ]
  },
  {
   "cell_type": "code",
   "execution_count": 89,
   "metadata": {},
   "outputs": [
    {
     "data": {
      "application/vnd.plotly.v1+json": {
       "config": {
        "plotlyServerURL": "https://plot.ly"
       },
       "data": [
        {
         "hovertemplate": "x=%{x}<br>y=%{y}<extra></extra>",
         "legendgroup": "",
         "line": {
          "color": "#636efa",
          "dash": "solid"
         },
         "marker": {
          "symbol": "circle"
         },
         "mode": "lines",
         "name": "",
         "orientation": "v",
         "showlegend": false,
         "type": "scatter",
         "x": {
          "bdata": "AAAAAAAohECj0zlNiiCEQCfmYPLDFYRAM+inJOEXhED07Fp8CRiEQIWFler9F4RAtrD+Af0XhED9Sis2AhiEQFTdUFQyGIRAyx3hFhkZhEAsmoGMGSCEQJCbC2GHH4RA5jKDiUsnhECjU33MZCmEQCd2spCnJ4RAC44Bx2UthEA87D0c8jCEQBbDU+oKK4RAjid8y4cnhEDz9PwkMyiEQNY8awzuJ4RA9U9Lef4nhEAWIthbACiEQGvo72sGKIRA2MDJaPYnhEDBPrqZBiiEQAT/H5FQJIRA07fFVzcahECgmdHEdxCEQBbpKUcZCIRAJXYNt/z0g0BGQ0F/B+KDQEwQ1HH0zYNAgPo4PoS2g0Al/NVVyaGDQPSjUST1iYNA2946rsNwg0DuEwpItVuDQHa4vD+gRYNA0hs/Ns8tg0ArcN6a4RWDQIDJOOER/oJA8EUly8XkgkCa+Rqj2MmCQMWK/L0Fr4JAmyWSlJCVgkCz1keFq3yCQHE3JIIbY4JAUkxGDXJIgkCl9lelEC2CQALNtkjJEYJA6kSDW/X3gUDPoAEJ/N+BQKkKQjexxoFAo6g6dLergUC8bvDqrJCBQCgAhH8tdoFARKp8PJFcgUBKbwCaU0OBQEpyeS2CKYFAAcqmMJsOgUC7gh5Ax/OAQK4qZNVN2YBAE0G6oxm/gEDaro0R5aSAQJdSjNlcioBAGSAxzWtvgECDwbjOd1SAQFadZS+OOYBA6ZVkpKIegECl+8p3qQOAQG4XaFpB0n9AnFhIPXSef0DMW7SBa2h/QI5vIcKWMn9AT4AJOdD8fkDBkda5w8d+QNRVeER3kn5AFztEU4lcfkB23T0x1iZ+QAIphRnR8H1AZax8Kxu/fUAQeJdx+oh9QJ15KzEfU31AFyfrgUAdfUC3URMGjud8QOdk4/gks3xAtB8OO3N/fEB9n/6ErEl8QNvbfuLTE3xAq1vs5vnde0DGTkDdJ6h7QARTjtBccntAWFW1klhEe0A+kPpS+Ax7QFOYv5Vf13pAKtw4VomhekDlPPfosGt6QCzwRXTYNXpAAAAAAAAAekA=",
          "dtype": "f8"
         },
         "xaxis": "x",
         "y": {
          "bdata": "AAAAAADwfkAg5H+Hlel+QGPp/3HAvH5ADiGuXjCFfkBtsiDANk9+QCrKfPxpGX5AGiCaPozjfUCC23QQtq19QG3pp+rpd31Au6aOm0tCfUDTYHyHKQ59QKMSDFog2HxAZ9a2cdKkfECN+AKco298QGGfBXNBOXxAQeN4cvMEfEA2xAf7l897QAEJAcDqmntAjoJBBQxme0DGg97ZAjB7QOPUexo++npAt8tZ9WDEekBNyn6yh456QBdlKxCvWHpAlQ3+M9giekCSy2br/ex5QA1hNprSt3lAHS/757aFeUAu7legi1N5QCifQbZEIHlAAQPwsEX6eEDCIHfDJNR4QN4quJOUsHhA/0IfJ02VeED40XekPnN4QGFZaFX8W3hAh0+XYfdHeEC0yvtwEyZ4QH7jaR0HB3hAjCRc+tjtd0AB8yBKvNR3QD9lhEvQundAwACY9Qmrd0BjO9YmHaZ3QP8heEiSn3dArxM/PHaOd0DJuJLCK3l3QEJ7jCQ8aXdAK6A0ZsZhd0AHD2Lial93QG43k/BaXHdAOsOxX/dPd0BrlCBEbDd3QK/i6B3dJXdA6niUYFQfd0Dq0QeMVRt3QHqz1uI6E3dAHBWLhPkBd0Aci6FmS+12QDtaAelH4HZANoBFJ/7fdkAi5efXe9t2QLbsImmm0HZAgUQTdarCdkBqt48x97V2QOCiwgJUr3ZAQgBpcKWvdkD64zPCJrB2QMeYHd/8r3ZAsMdeovSvdkDkuE9qlLB2QPMlAPDJq3ZA6etIpDSfdkAi/2N9PqB2QLMXgIi1oHZAJoRKfa2fdkCFoY/0P5Z2QG4FfFszj3ZA/RkvwfGPdkDqIewAko92QFFarv9HkHZAZ76A9cN+dkCdIcZX9n92QMarojMCgHZAeJsYmByAdkBmkMS/e392QP1nMWhneXZAsWwvjUpwdkBBaHVj/292QG+iegsAcHZA7KpdxgNwdkD0ojxK9G92QLjlqu3Tb3ZApPrbVO1cdkBaF0E1n2B2QE8JAGMFYHZAu9aqDwBgdkAmXtD+/192QNzH6f//X3ZAAAAAAABgdkA=",
          "dtype": "f8"
         },
         "yaxis": "y"
        },
        {
         "hovertemplate": "x=%{x}<br>y=%{y}<extra></extra>",
         "legendgroup": "",
         "marker": {
          "color": "#636efa",
          "opacity": 0,
          "symbol": "circle"
         },
         "mode": "markers",
         "name": "",
         "orientation": "v",
         "showlegend": false,
         "type": "scatter",
         "x": {
          "bdata": "AAAABQ==",
          "dtype": "i2"
         },
         "xaxis": "x",
         "y": {
          "bdata": "AADQAg==",
          "dtype": "i2"
         },
         "yaxis": "y"
        }
       ],
       "layout": {
        "legend": {
         "tracegroupgap": 0
        },
        "margin": {
         "t": 60
        },
        "template": {
         "data": {
          "bar": [
           {
            "error_x": {
             "color": "#2a3f5f"
            },
            "error_y": {
             "color": "#2a3f5f"
            },
            "marker": {
             "line": {
              "color": "#E5ECF6",
              "width": 0.5
             },
             "pattern": {
              "fillmode": "overlay",
              "size": 10,
              "solidity": 0.2
             }
            },
            "type": "bar"
           }
          ],
          "barpolar": [
           {
            "marker": {
             "line": {
              "color": "#E5ECF6",
              "width": 0.5
             },
             "pattern": {
              "fillmode": "overlay",
              "size": 10,
              "solidity": 0.2
             }
            },
            "type": "barpolar"
           }
          ],
          "carpet": [
           {
            "aaxis": {
             "endlinecolor": "#2a3f5f",
             "gridcolor": "white",
             "linecolor": "white",
             "minorgridcolor": "white",
             "startlinecolor": "#2a3f5f"
            },
            "baxis": {
             "endlinecolor": "#2a3f5f",
             "gridcolor": "white",
             "linecolor": "white",
             "minorgridcolor": "white",
             "startlinecolor": "#2a3f5f"
            },
            "type": "carpet"
           }
          ],
          "choropleth": [
           {
            "colorbar": {
             "outlinewidth": 0,
             "ticks": ""
            },
            "type": "choropleth"
           }
          ],
          "contour": [
           {
            "colorbar": {
             "outlinewidth": 0,
             "ticks": ""
            },
            "colorscale": [
             [
              0,
              "#0d0887"
             ],
             [
              0.1111111111111111,
              "#46039f"
             ],
             [
              0.2222222222222222,
              "#7201a8"
             ],
             [
              0.3333333333333333,
              "#9c179e"
             ],
             [
              0.4444444444444444,
              "#bd3786"
             ],
             [
              0.5555555555555556,
              "#d8576b"
             ],
             [
              0.6666666666666666,
              "#ed7953"
             ],
             [
              0.7777777777777778,
              "#fb9f3a"
             ],
             [
              0.8888888888888888,
              "#fdca26"
             ],
             [
              1,
              "#f0f921"
             ]
            ],
            "type": "contour"
           }
          ],
          "contourcarpet": [
           {
            "colorbar": {
             "outlinewidth": 0,
             "ticks": ""
            },
            "type": "contourcarpet"
           }
          ],
          "heatmap": [
           {
            "colorbar": {
             "outlinewidth": 0,
             "ticks": ""
            },
            "colorscale": [
             [
              0,
              "#0d0887"
             ],
             [
              0.1111111111111111,
              "#46039f"
             ],
             [
              0.2222222222222222,
              "#7201a8"
             ],
             [
              0.3333333333333333,
              "#9c179e"
             ],
             [
              0.4444444444444444,
              "#bd3786"
             ],
             [
              0.5555555555555556,
              "#d8576b"
             ],
             [
              0.6666666666666666,
              "#ed7953"
             ],
             [
              0.7777777777777778,
              "#fb9f3a"
             ],
             [
              0.8888888888888888,
              "#fdca26"
             ],
             [
              1,
              "#f0f921"
             ]
            ],
            "type": "heatmap"
           }
          ],
          "histogram": [
           {
            "marker": {
             "pattern": {
              "fillmode": "overlay",
              "size": 10,
              "solidity": 0.2
             }
            },
            "type": "histogram"
           }
          ],
          "histogram2d": [
           {
            "colorbar": {
             "outlinewidth": 0,
             "ticks": ""
            },
            "colorscale": [
             [
              0,
              "#0d0887"
             ],
             [
              0.1111111111111111,
              "#46039f"
             ],
             [
              0.2222222222222222,
              "#7201a8"
             ],
             [
              0.3333333333333333,
              "#9c179e"
             ],
             [
              0.4444444444444444,
              "#bd3786"
             ],
             [
              0.5555555555555556,
              "#d8576b"
             ],
             [
              0.6666666666666666,
              "#ed7953"
             ],
             [
              0.7777777777777778,
              "#fb9f3a"
             ],
             [
              0.8888888888888888,
              "#fdca26"
             ],
             [
              1,
              "#f0f921"
             ]
            ],
            "type": "histogram2d"
           }
          ],
          "histogram2dcontour": [
           {
            "colorbar": {
             "outlinewidth": 0,
             "ticks": ""
            },
            "colorscale": [
             [
              0,
              "#0d0887"
             ],
             [
              0.1111111111111111,
              "#46039f"
             ],
             [
              0.2222222222222222,
              "#7201a8"
             ],
             [
              0.3333333333333333,
              "#9c179e"
             ],
             [
              0.4444444444444444,
              "#bd3786"
             ],
             [
              0.5555555555555556,
              "#d8576b"
             ],
             [
              0.6666666666666666,
              "#ed7953"
             ],
             [
              0.7777777777777778,
              "#fb9f3a"
             ],
             [
              0.8888888888888888,
              "#fdca26"
             ],
             [
              1,
              "#f0f921"
             ]
            ],
            "type": "histogram2dcontour"
           }
          ],
          "mesh3d": [
           {
            "colorbar": {
             "outlinewidth": 0,
             "ticks": ""
            },
            "type": "mesh3d"
           }
          ],
          "parcoords": [
           {
            "line": {
             "colorbar": {
              "outlinewidth": 0,
              "ticks": ""
             }
            },
            "type": "parcoords"
           }
          ],
          "pie": [
           {
            "automargin": true,
            "type": "pie"
           }
          ],
          "scatter": [
           {
            "fillpattern": {
             "fillmode": "overlay",
             "size": 10,
             "solidity": 0.2
            },
            "type": "scatter"
           }
          ],
          "scatter3d": [
           {
            "line": {
             "colorbar": {
              "outlinewidth": 0,
              "ticks": ""
             }
            },
            "marker": {
             "colorbar": {
              "outlinewidth": 0,
              "ticks": ""
             }
            },
            "type": "scatter3d"
           }
          ],
          "scattercarpet": [
           {
            "marker": {
             "colorbar": {
              "outlinewidth": 0,
              "ticks": ""
             }
            },
            "type": "scattercarpet"
           }
          ],
          "scattergeo": [
           {
            "marker": {
             "colorbar": {
              "outlinewidth": 0,
              "ticks": ""
             }
            },
            "type": "scattergeo"
           }
          ],
          "scattergl": [
           {
            "marker": {
             "colorbar": {
              "outlinewidth": 0,
              "ticks": ""
             }
            },
            "type": "scattergl"
           }
          ],
          "scattermap": [
           {
            "marker": {
             "colorbar": {
              "outlinewidth": 0,
              "ticks": ""
             }
            },
            "type": "scattermap"
           }
          ],
          "scattermapbox": [
           {
            "marker": {
             "colorbar": {
              "outlinewidth": 0,
              "ticks": ""
             }
            },
            "type": "scattermapbox"
           }
          ],
          "scatterpolar": [
           {
            "marker": {
             "colorbar": {
              "outlinewidth": 0,
              "ticks": ""
             }
            },
            "type": "scatterpolar"
           }
          ],
          "scatterpolargl": [
           {
            "marker": {
             "colorbar": {
              "outlinewidth": 0,
              "ticks": ""
             }
            },
            "type": "scatterpolargl"
           }
          ],
          "scatterternary": [
           {
            "marker": {
             "colorbar": {
              "outlinewidth": 0,
              "ticks": ""
             }
            },
            "type": "scatterternary"
           }
          ],
          "surface": [
           {
            "colorbar": {
             "outlinewidth": 0,
             "ticks": ""
            },
            "colorscale": [
             [
              0,
              "#0d0887"
             ],
             [
              0.1111111111111111,
              "#46039f"
             ],
             [
              0.2222222222222222,
              "#7201a8"
             ],
             [
              0.3333333333333333,
              "#9c179e"
             ],
             [
              0.4444444444444444,
              "#bd3786"
             ],
             [
              0.5555555555555556,
              "#d8576b"
             ],
             [
              0.6666666666666666,
              "#ed7953"
             ],
             [
              0.7777777777777778,
              "#fb9f3a"
             ],
             [
              0.8888888888888888,
              "#fdca26"
             ],
             [
              1,
              "#f0f921"
             ]
            ],
            "type": "surface"
           }
          ],
          "table": [
           {
            "cells": {
             "fill": {
              "color": "#EBF0F8"
             },
             "line": {
              "color": "white"
             }
            },
            "header": {
             "fill": {
              "color": "#C8D4E3"
             },
             "line": {
              "color": "white"
             }
            },
            "type": "table"
           }
          ]
         },
         "layout": {
          "annotationdefaults": {
           "arrowcolor": "#2a3f5f",
           "arrowhead": 0,
           "arrowwidth": 1
          },
          "autotypenumbers": "strict",
          "coloraxis": {
           "colorbar": {
            "outlinewidth": 0,
            "ticks": ""
           }
          },
          "colorscale": {
           "diverging": [
            [
             0,
             "#8e0152"
            ],
            [
             0.1,
             "#c51b7d"
            ],
            [
             0.2,
             "#de77ae"
            ],
            [
             0.3,
             "#f1b6da"
            ],
            [
             0.4,
             "#fde0ef"
            ],
            [
             0.5,
             "#f7f7f7"
            ],
            [
             0.6,
             "#e6f5d0"
            ],
            [
             0.7,
             "#b8e186"
            ],
            [
             0.8,
             "#7fbc41"
            ],
            [
             0.9,
             "#4d9221"
            ],
            [
             1,
             "#276419"
            ]
           ],
           "sequential": [
            [
             0,
             "#0d0887"
            ],
            [
             0.1111111111111111,
             "#46039f"
            ],
            [
             0.2222222222222222,
             "#7201a8"
            ],
            [
             0.3333333333333333,
             "#9c179e"
            ],
            [
             0.4444444444444444,
             "#bd3786"
            ],
            [
             0.5555555555555556,
             "#d8576b"
            ],
            [
             0.6666666666666666,
             "#ed7953"
            ],
            [
             0.7777777777777778,
             "#fb9f3a"
            ],
            [
             0.8888888888888888,
             "#fdca26"
            ],
            [
             1,
             "#f0f921"
            ]
           ],
           "sequentialminus": [
            [
             0,
             "#0d0887"
            ],
            [
             0.1111111111111111,
             "#46039f"
            ],
            [
             0.2222222222222222,
             "#7201a8"
            ],
            [
             0.3333333333333333,
             "#9c179e"
            ],
            [
             0.4444444444444444,
             "#bd3786"
            ],
            [
             0.5555555555555556,
             "#d8576b"
            ],
            [
             0.6666666666666666,
             "#ed7953"
            ],
            [
             0.7777777777777778,
             "#fb9f3a"
            ],
            [
             0.8888888888888888,
             "#fdca26"
            ],
            [
             1,
             "#f0f921"
            ]
           ]
          },
          "colorway": [
           "#636efa",
           "#EF553B",
           "#00cc96",
           "#ab63fa",
           "#FFA15A",
           "#19d3f3",
           "#FF6692",
           "#B6E880",
           "#FF97FF",
           "#FECB52"
          ],
          "font": {
           "color": "#2a3f5f"
          },
          "geo": {
           "bgcolor": "white",
           "lakecolor": "white",
           "landcolor": "#E5ECF6",
           "showlakes": true,
           "showland": true,
           "subunitcolor": "white"
          },
          "hoverlabel": {
           "align": "left"
          },
          "hovermode": "closest",
          "mapbox": {
           "style": "light"
          },
          "paper_bgcolor": "white",
          "plot_bgcolor": "#E5ECF6",
          "polar": {
           "angularaxis": {
            "gridcolor": "white",
            "linecolor": "white",
            "ticks": ""
           },
           "bgcolor": "#E5ECF6",
           "radialaxis": {
            "gridcolor": "white",
            "linecolor": "white",
            "ticks": ""
           }
          },
          "scene": {
           "xaxis": {
            "backgroundcolor": "#E5ECF6",
            "gridcolor": "white",
            "gridwidth": 2,
            "linecolor": "white",
            "showbackground": true,
            "ticks": "",
            "zerolinecolor": "white"
           },
           "yaxis": {
            "backgroundcolor": "#E5ECF6",
            "gridcolor": "white",
            "gridwidth": 2,
            "linecolor": "white",
            "showbackground": true,
            "ticks": "",
            "zerolinecolor": "white"
           },
           "zaxis": {
            "backgroundcolor": "#E5ECF6",
            "gridcolor": "white",
            "gridwidth": 2,
            "linecolor": "white",
            "showbackground": true,
            "ticks": "",
            "zerolinecolor": "white"
           }
          },
          "shapedefaults": {
           "line": {
            "color": "#2a3f5f"
           }
          },
          "ternary": {
           "aaxis": {
            "gridcolor": "white",
            "linecolor": "white",
            "ticks": ""
           },
           "baxis": {
            "gridcolor": "white",
            "linecolor": "white",
            "ticks": ""
           },
           "bgcolor": "#E5ECF6",
           "caxis": {
            "gridcolor": "white",
            "linecolor": "white",
            "ticks": ""
           }
          },
          "title": {
           "x": 0.05
          },
          "xaxis": {
           "automargin": true,
           "gridcolor": "white",
           "linecolor": "white",
           "ticks": "",
           "title": {
            "standoff": 15
           },
           "zerolinecolor": "white",
           "zerolinewidth": 2
          },
          "yaxis": {
           "automargin": true,
           "gridcolor": "white",
           "linecolor": "white",
           "ticks": "",
           "title": {
            "standoff": 15
           },
           "zerolinecolor": "white",
           "zerolinewidth": 2
          }
         }
        },
        "xaxis": {
         "anchor": "y",
         "domain": [
          0,
          1
         ],
         "title": {
          "text": "x"
         }
        },
        "yaxis": {
         "anchor": "x",
         "autorange": "reversed",
         "domain": [
          0,
          1
         ],
         "title": {
          "text": "y"
         }
        }
       }
      }
     },
     "metadata": {},
     "output_type": "display_data"
    }
   ],
   "source": [
    "k = test_df_human.loc[0, \"2d_human\"]\n",
    "exx = np.array([0, 1280])\n",
    "exy = np.array([0,720])\n",
    "fig = px.line(x=k[:,0], y=k[:,1])\n",
    "fig.add_trace(px.scatter(x=exx, y=exy, opacity=0).data[0])\n",
    "fig.update_yaxes(autorange='reversed')"
   ]
  },
  {
   "cell_type": "code",
   "execution_count": 3,
   "metadata": {},
   "outputs": [],
   "source": [
    "pos = np.loadtxt(\"pos.txt\")\n",
    "quat = np.loadtxt(\"quat.txt\")"
   ]
  },
  {
   "cell_type": "code",
   "execution_count": 54,
   "metadata": {},
   "outputs": [],
   "source": [
    "from scipy.spatial.transform import Rotation as R\n",
    "whichpoint = 30\n",
    "r = R.from_quat(quat[whichpoint], scalar_first=True)\n",
    "\n",
    "dlf_ocv = np.array([[0,0,1,0],\n",
    "                    [1,0,0,0],\n",
    "                    [0,1,0,0],\n",
    "                    [0,0,0,1]])\n",
    "\n",
    "fli_dlf = np.identity(4)\n",
    "fli_dlf[:3, :3] =  R.as_matrix(r)\n",
    "fli_dlf[:3,-1] = pos[whichpoint]\n",
    "\n",
    "\n",
    "tr = r.as_rotvec()\n",
    "tr /= np.linalg.norm(tr)\n",
    "\n",
    "xv,yv,zv = list(r.as_matrix().T)\n",
    "\n",
    "p0 = pos[whichpoint]\n",
    "p1 = pos[whichpoint] + xv\n",
    "p = np.stack([p0,p1])"
   ]
  },
  {
   "cell_type": "code",
   "execution_count": 55,
   "metadata": {},
   "outputs": [],
   "source": [
    "realg = np.stack([(r.as_matrix().T + pos[whichpoint]),(0*r.as_matrix().T + pos[whichpoint])])"
   ]
  },
  {
   "cell_type": "code",
   "execution_count": null,
   "metadata": {},
   "outputs": [],
   "source": [
    "def pose_to_fli_ocv(pos, quat):\n",
    "    dlf_ocv = np.array([[0,0,1,0],\n",
    "                        [1,0,0,0],\n",
    "                        [0,1,0,0],\n",
    "                        [0,0,0,1]])\n",
    "    # Given xyz and quaternion, that takes vectors from the ned drone local frame to the ned flightroom frame\n",
    "    r = R.from_quat(quat, scalar_first=True)\n",
    "    fli_dlf = np.identity(4)\n",
    "    fli_dlf[:3, :3] =  R.as_matrix(r)\n",
    "    fli_dlf[:3,-1] = pos\n",
    "    return fli_dlf @ dlf_ocv"
   ]
  },
  {
   "cell_type": "code",
   "execution_count": null,
   "metadata": {},
   "outputs": [],
   "source": [
    "T = pose_to_fli_osv(pos[whichpoint], quat[whichpoint]) @ dlf_ocv"
   ]
  },
  {
   "cell_type": "code",
   "execution_count": 90,
   "metadata": {},
   "outputs": [],
   "source": [
    "traj = t[0].T\n",
    "retraj = trajAffine(traj, 1.0, T)"
   ]
  },
  {
   "cell_type": "code",
   "execution_count": 93,
   "metadata": {},
   "outputs": [
    {
     "data": {
      "text/plain": [
       "(100, 3)"
      ]
     },
     "execution_count": 93,
     "metadata": {},
     "output_type": "execute_result"
    }
   ],
   "source": [
    "retraj.shape"
   ]
  },
  {
   "cell_type": "code",
   "execution_count": 88,
   "metadata": {},
   "outputs": [
    {
     "data": {
      "application/vnd.plotly.v1+json": {
       "config": {
        "plotlyServerURL": "https://plot.ly"
       },
       "data": [
        {
         "hovertemplate": "x=%{x}<br>y=%{y}<br>z=%{z}<br>color=%{marker.color}<extra></extra>",
         "legendgroup": "",
         "marker": {
          "color": {
           "bdata": "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",
           "dtype": "i2"
          },
          "coloraxis": "coloraxis",
          "size": 1,
          "symbol": "circle"
         },
         "mode": "markers",
         "name": "",
         "scene": "scene",
         "showlegend": false,
         "type": "scatter3d",
         "x": {
          "bdata": "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",
          "dtype": "f8"
         },
         "y": {
          "bdata": "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",
          "dtype": "f8"
         },
         "z": {
          "bdata": "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",
          "dtype": "f8"
         }
        },
        {
         "hovertemplate": "x=%{x}<br>y=%{y}<br>z=%{z}<extra></extra>",
         "legendgroup": "",
         "marker": {
          "color": "#636efa",
          "opacity": 0,
          "symbol": "circle"
         },
         "mode": "markers",
         "name": "",
         "scene": "scene",
         "showlegend": false,
         "type": "scatter3d",
         "x": {
          "bdata": "AAAAQFIDF8AAAABgXd/+Pw==",
          "dtype": "f8"
         },
         "y": {
          "bdata": "AAAAQFIDF8AAAABgXd/+Pw==",
          "dtype": "f8"
         },
         "z": {
          "bdata": "AAAAQFIDF8AAAABgXd/+Pw==",
          "dtype": "f8"
         }
        },
        {
         "hovertemplate": "x=%{x}<br>y=%{y}<br>z=%{z}<extra></extra>",
         "legendgroup": "",
         "line": {
          "color": "red",
          "dash": "solid"
         },
         "marker": {
          "symbol": "circle"
         },
         "mode": "lines",
         "name": "",
         "scene": "scene",
         "showlegend": false,
         "type": "scatter3d",
         "x": {
          "bdata": "ivxzmqtaCcAAAADgU6sQwA==",
          "dtype": "f8"
         },
         "y": {
          "bdata": "nVL4vo3uwL8AAAAAsuyxvw==",
          "dtype": "f8"
         },
         "z": {
          "bdata": "JOEkJ9GE578AAADgqVDnvw==",
          "dtype": "f8"
         }
        },
        {
         "hovertemplate": "x=%{x}<br>y=%{y}<br>z=%{z}<extra></extra>",
         "legendgroup": "",
         "line": {
          "color": "blue",
          "dash": "solid"
         },
         "marker": {
          "symbol": "circle"
         },
         "mode": "lines",
         "name": "",
         "scene": "scene",
         "showlegend": false,
         "type": "scatter3d",
         "x": {
          "bdata": "2GORgp1rEMAAAADgU6sQwA==",
          "dtype": "f8"
         },
         "y": {
          "bdata": "I+2DsFqy7T8AAAAAsuyxvw==",
          "dtype": "f8"
         },
         "z": {
          "bdata": "Y8xwLfSH578AAADgqVDnvw==",
          "dtype": "f8"
         }
        },
        {
         "hovertemplate": "x=%{x}<br>y=%{y}<br>z=%{z}<extra></extra>",
         "legendgroup": "",
         "line": {
          "color": "green",
          "dash": "solid"
         },
         "marker": {
          "symbol": "circle"
         },
         "mode": "lines",
         "name": "",
         "scene": "scene",
         "showlegend": false,
         "type": "scatter3d",
         "x": {
          "bdata": "ke7BE2SkEMAAAADgU6sQwA==",
          "dtype": "f8"
         },
         "y": {
          "bdata": "mIWrNTNNsL8AAAAAsuyxvw==",
          "dtype": "f8"
         },
         "z": {
          "bdata": "yjUTt/dd0T8AAADgqVDnvw==",
          "dtype": "f8"
         }
        },
        {
         "hovertemplate": "x=%{x}<br>y=%{y}<br>z=%{z}<extra></extra>",
         "legendgroup": "",
         "line": {
          "color": "cyan",
          "dash": "solid"
         },
         "marker": {
          "symbol": "circle"
         },
         "mode": "lines",
         "name": "",
         "scene": "scene",
         "showlegend": false,
         "type": "scatter3d",
         "x": {
          "bdata": "AAAA4FOrEMA9W2r+W4wQwDm3FR1kbRDAgJGmO2xOEMD+uQtadC8QwP6HkHh8EBDAG3s7LgnjD8AqeDprGaUPwAggRqgpZw/AyM+W5TkpD8DPAIgiSusOwGGeY19arQ7A5+aTnGpvDsCvm3/ZejEOwLMdsRaL8w3AmXDnU5u1DcAZibCQq3cNwLSFts27OQ3AT8fTCsz7DMCYFtVH3L0MwCq+3oTsfwzAKAIwwvxBDMDtSyr/DAQMwIwRAjwdxgvAQj40eS2IC8A/ACS2PUoLwPeHUPNNDAvAoaSOMF7OCsA0OFptbpAKwIfVXKp+UgrA/td7544UCsAzLH8kn9YJwMcphmGvmAnANBHWnr9aCcBeF9jbzxwJwFK7qhjg3gjAVhfcVfCgCMCLjc6SAGMIwC4z9M8QJQjAmPo3DSHnB8BeiQVKMakHwCNABIdBawfAUsYixFEtB8DFmSoBYu8GwHbDMj5ysQbAjI9me4JzBsCeeMW4kjUGwF5CJfWi9wXAmSKqMbO5BcCShJxuw3sFwG1wr1vTPQXAHiY1juL/BMC6yRH28MEEwGxTAon/gwTAvRC0nhBGBMDCueGlKAgEwB4FbKtPygPAcvZCzZSMA8ACFwgrFU8DwPyJ2o8HEgPAtYCcA8zVAsAivZnz65oCwPRpWFboYQLAql2oZuYqAsDw74hykvUBwAS3phBkwQHAmIosMASOAcBQZ8iThVsBwH3VwY9cKgHAO4+ZaQP7AMAlmVQ1hM0AwP+u6YR4oQDAj6un3kN2AMCVr6+zW0sAwGQsZ7p0IADAUtup9gPr/79a6VmkGpX/v7jWLU4xP/+/gtDRAEjp/r9OiMCwXpP+v7gjpV91Pf6/cs43EYzn/b82w3zBopH9vzDmJ3O5O/2/onFzI9Dl/L/yiHjW5o/8vwr1SIj9Ofy/TlVwOBTk+7+StPjrKo77v6rhYJ1BOPu/Ntr9T1ji+r8QSdwBb4z6v1oaf7WFNvq/EohcaJzg+b+IYCUYs4r5vyRLcM/JNPm/cj29huDe+L90J2Gv84j4v4wiqoHyMvi/hm1U3Pbc978=",
          "dtype": "f8"
         },
         "y": {
          "bdata": "DgAAALLssb8k8YB3Vmiyv8s4zu7747K/a4DO/aBfs7/d/t5gRduzvwHneEDqVrS/OCYmQY/StL8SitsLNE61v+Zafe/YybW/4hPxWn5Ftr8ALIAKI8G2v0Avm4/HPLe/dH5Mu2y4t78o/Q9gETS4v+Q5Ko62r7i/hLe+xVsrub9GtmomAKe5vwMf5v6kIrq/BkkrBUqeur+TKnXU7hm7v6WgK7STlbu/ZF3JIDkRvL/W4Ebi3Yy8v57H3F+CCL2/9vJTjyeEvb8cYB88zP+9v2rxfmBxe76/FKl3pxb3vr8m9RYNu3K/vx19Ad9f7r+/WH1ldAI1wL+MHQ/e1HLAv+n8UkunsMC/9stRAHruwL/u1rJoTCzBv6KbdqIeasG/czBpOfGnwb8JZnuSw+XBv1+s6B2WI8K/sIT6xmhhwr+EGb/7Op/Cv8Zw4WAN3cK/rH1J5d8aw7+8rGhTsljDv1rm3sGElsO//r3vWlfUw78GCZwfKhLEv+7GMef7T8S/fnqc0s2NxL+YmZEioMvEv4ajk5UiCcW/AiinGuhFxb+OvugW3oHFv9IQb2kAvsW/RLFKTa/8xb+11dB35EHGv8TViiJzk8a/mGqahmr5xr+gguiyiX7HvyZUeemXMMi/H+ws5psfyb/ftottYlnKv4yxSd5L4cu/WOeDBMKszb8QxLbBYajPvySrG/fN4NC/TwkwliH30b8cFb0FchfTv1PMspzmRdS/drtUWfCF1b84it+5S9bWvwSXizpwMti/d+omLwmV2b8U3EYF3vnav+WcWbi7Xty/ulUy/EHD3b+eA/sCuiffv1KueP0YRuC/+PswClX44L+yybARkarhv0CWIBfNXOK/Ml/NIQkP479HYecpRcHjv/GvuzSBc+S/lJzaPL0l5b9dxk5K+dflvy73YlU1iua/kS4zXXE857976qFrre7nv+TG4nXpoOi/qcV+giVT6b+ph6KNYQXqv4MoO5ydt+q/KIhNqdlp679qBlywFRzsv4dX/cVRzuy/7K2B242A7b+KSaMbwzLuv612lT3R5O6/WPY8BeqW778=",
          "dtype": "f8"
         },
         "z": {
          "bdata": "AAAA4KlQ57/XJR9vPlLnv0Rj+wPTU+e/Gvp9lmdV578SKyIl/Fbnv+FJkbaQWOe/Cbu9SCVa57+4UbPZuVvnv8EoOGtOXee/L13K/+Je57/VhiSQd2Dnv2Uoix8MYue/ckywsqBj57+mis1CNWXnvyc2ANbJZue/4qNoaV5o57+iLvz38mnnv0WdP4mHa+e/GBSJGxxt57/W35SssG7nv/Nx/T1FcOe/8m6O0tlx578IJUVjbnPnvz4Bc/ICdee/cmidhZd257+089UVLHjnvwcMvKjAeee/7FFnPFV757+ENwHL6Xznv6jjCFx+fue/DzNR7hKA579z519/p4Hnv7TVlxA8g+e/Sa4IpdCE57+yMAg2ZYbnv15Y78T5h+e/IvoFWI6J57+blFToIovnv8Nk5Xq3jOe/HGrLDkyO57/NE3ed4I/nv1JmSC51kee/KeuWwAmT578EJrpRnpTnvz7n2eIylue/z/Qad8eX5783dNUIXJnnv4GdHpfwmue/dKd8KYWc57/VzPi5GZ7nvweA0/Wtn+e/IGI6Z0Gh57/6Q4Dz06Lnv1POW7FmpOe/o27+Mfyl579XK/67mKfnv3vOOo9Cqee/afaLPAKr57+xvl374qznv20oNMHyrue/xH/9V0Gx57+OKf+A2bPnv3jEHay1tue/OCBSo8i557+ISvlzHb3nvwUkl9TywOe/No7aMcTF57/O1jZWP8znv+G4Blgk1ee//8nwAvTg578DQFMbiu/nvzHSOxEwAOi/k3JDEv0R6L+hbd46MSTov8OhJPxmNui/FX1r7oxI6L/LHrlMsFrov1MJs6rTbOi/XFs3C/d+6L8kKbdrGpHovz/bycw9o+i/gX8pLWG16L8bHSCOhMfovz/8yu6n2ei/XhwOUMvr6L+Dcomw7v3ov438ghESEOm/jkweczUi6b/morLTWDTpv4zBETV8Rum/S5kklp9Y6b9bnY73wmrpv2tLfFjmfOm/ssvIuQmP6b8os9cbLaHpv4YN5HxQs+m/ojAn33PF6b9oxZoBl9fpvxDDi7i46em/G/Dy0dr76b8=",
          "dtype": "f8"
         }
        }
       ],
       "layout": {
        "coloraxis": {
         "colorbar": {
          "title": {
           "text": "color"
          }
         },
         "colorscale": [
          [
           0,
           "#0d0887"
          ],
          [
           0.1111111111111111,
           "#46039f"
          ],
          [
           0.2222222222222222,
           "#7201a8"
          ],
          [
           0.3333333333333333,
           "#9c179e"
          ],
          [
           0.4444444444444444,
           "#bd3786"
          ],
          [
           0.5555555555555556,
           "#d8576b"
          ],
          [
           0.6666666666666666,
           "#ed7953"
          ],
          [
           0.7777777777777778,
           "#fb9f3a"
          ],
          [
           0.8888888888888888,
           "#fdca26"
          ],
          [
           1,
           "#f0f921"
          ]
         ]
        },
        "legend": {
         "tracegroupgap": 0
        },
        "margin": {
         "t": 60
        },
        "scene": {
         "domain": {
          "x": [
           0,
           1
          ],
          "y": [
           0,
           1
          ]
         },
         "xaxis": {
          "title": {
           "text": "x"
          }
         },
         "yaxis": {
          "autorange": "reversed",
          "title": {
           "text": "y"
          }
         },
         "zaxis": {
          "autorange": "reversed",
          "title": {
           "text": "z"
          }
         }
        },
        "template": {
         "data": {
          "bar": [
           {
            "error_x": {
             "color": "#2a3f5f"
            },
            "error_y": {
             "color": "#2a3f5f"
            },
            "marker": {
             "line": {
              "color": "#E5ECF6",
              "width": 0.5
             },
             "pattern": {
              "fillmode": "overlay",
              "size": 10,
              "solidity": 0.2
             }
            },
            "type": "bar"
           }
          ],
          "barpolar": [
           {
            "marker": {
             "line": {
              "color": "#E5ECF6",
              "width": 0.5
             },
             "pattern": {
              "fillmode": "overlay",
              "size": 10,
              "solidity": 0.2
             }
            },
            "type": "barpolar"
           }
          ],
          "carpet": [
           {
            "aaxis": {
             "endlinecolor": "#2a3f5f",
             "gridcolor": "white",
             "linecolor": "white",
             "minorgridcolor": "white",
             "startlinecolor": "#2a3f5f"
            },
            "baxis": {
             "endlinecolor": "#2a3f5f",
             "gridcolor": "white",
             "linecolor": "white",
             "minorgridcolor": "white",
             "startlinecolor": "#2a3f5f"
            },
            "type": "carpet"
           }
          ],
          "choropleth": [
           {
            "colorbar": {
             "outlinewidth": 0,
             "ticks": ""
            },
            "type": "choropleth"
           }
          ],
          "contour": [
           {
            "colorbar": {
             "outlinewidth": 0,
             "ticks": ""
            },
            "colorscale": [
             [
              0,
              "#0d0887"
             ],
             [
              0.1111111111111111,
              "#46039f"
             ],
             [
              0.2222222222222222,
              "#7201a8"
             ],
             [
              0.3333333333333333,
              "#9c179e"
             ],
             [
              0.4444444444444444,
              "#bd3786"
             ],
             [
              0.5555555555555556,
              "#d8576b"
             ],
             [
              0.6666666666666666,
              "#ed7953"
             ],
             [
              0.7777777777777778,
              "#fb9f3a"
             ],
             [
              0.8888888888888888,
              "#fdca26"
             ],
             [
              1,
              "#f0f921"
             ]
            ],
            "type": "contour"
           }
          ],
          "contourcarpet": [
           {
            "colorbar": {
             "outlinewidth": 0,
             "ticks": ""
            },
            "type": "contourcarpet"
           }
          ],
          "heatmap": [
           {
            "colorbar": {
             "outlinewidth": 0,
             "ticks": ""
            },
            "colorscale": [
             [
              0,
              "#0d0887"
             ],
             [
              0.1111111111111111,
              "#46039f"
             ],
             [
              0.2222222222222222,
              "#7201a8"
             ],
             [
              0.3333333333333333,
              "#9c179e"
             ],
             [
              0.4444444444444444,
              "#bd3786"
             ],
             [
              0.5555555555555556,
              "#d8576b"
             ],
             [
              0.6666666666666666,
              "#ed7953"
             ],
             [
              0.7777777777777778,
              "#fb9f3a"
             ],
             [
              0.8888888888888888,
              "#fdca26"
             ],
             [
              1,
              "#f0f921"
             ]
            ],
            "type": "heatmap"
           }
          ],
          "histogram": [
           {
            "marker": {
             "pattern": {
              "fillmode": "overlay",
              "size": 10,
              "solidity": 0.2
             }
            },
            "type": "histogram"
           }
          ],
          "histogram2d": [
           {
            "colorbar": {
             "outlinewidth": 0,
             "ticks": ""
            },
            "colorscale": [
             [
              0,
              "#0d0887"
             ],
             [
              0.1111111111111111,
              "#46039f"
             ],
             [
              0.2222222222222222,
              "#7201a8"
             ],
             [
              0.3333333333333333,
              "#9c179e"
             ],
             [
              0.4444444444444444,
              "#bd3786"
             ],
             [
              0.5555555555555556,
              "#d8576b"
             ],
             [
              0.6666666666666666,
              "#ed7953"
             ],
             [
              0.7777777777777778,
              "#fb9f3a"
             ],
             [
              0.8888888888888888,
              "#fdca26"
             ],
             [
              1,
              "#f0f921"
             ]
            ],
            "type": "histogram2d"
           }
          ],
          "histogram2dcontour": [
           {
            "colorbar": {
             "outlinewidth": 0,
             "ticks": ""
            },
            "colorscale": [
             [
              0,
              "#0d0887"
             ],
             [
              0.1111111111111111,
              "#46039f"
             ],
             [
              0.2222222222222222,
              "#7201a8"
             ],
             [
              0.3333333333333333,
              "#9c179e"
             ],
             [
              0.4444444444444444,
              "#bd3786"
             ],
             [
              0.5555555555555556,
              "#d8576b"
             ],
             [
              0.6666666666666666,
              "#ed7953"
             ],
             [
              0.7777777777777778,
              "#fb9f3a"
             ],
             [
              0.8888888888888888,
              "#fdca26"
             ],
             [
              1,
              "#f0f921"
             ]
            ],
            "type": "histogram2dcontour"
           }
          ],
          "mesh3d": [
           {
            "colorbar": {
             "outlinewidth": 0,
             "ticks": ""
            },
            "type": "mesh3d"
           }
          ],
          "parcoords": [
           {
            "line": {
             "colorbar": {
              "outlinewidth": 0,
              "ticks": ""
             }
            },
            "type": "parcoords"
           }
          ],
          "pie": [
           {
            "automargin": true,
            "type": "pie"
           }
          ],
          "scatter": [
           {
            "fillpattern": {
             "fillmode": "overlay",
             "size": 10,
             "solidity": 0.2
            },
            "type": "scatter"
           }
          ],
          "scatter3d": [
           {
            "line": {
             "colorbar": {
              "outlinewidth": 0,
              "ticks": ""
             }
            },
            "marker": {
             "colorbar": {
              "outlinewidth": 0,
              "ticks": ""
             }
            },
            "type": "scatter3d"
           }
          ],
          "scattercarpet": [
           {
            "marker": {
             "colorbar": {
              "outlinewidth": 0,
              "ticks": ""
             }
            },
            "type": "scattercarpet"
           }
          ],
          "scattergeo": [
           {
            "marker": {
             "colorbar": {
              "outlinewidth": 0,
              "ticks": ""
             }
            },
            "type": "scattergeo"
           }
          ],
          "scattergl": [
           {
            "marker": {
             "colorbar": {
              "outlinewidth": 0,
              "ticks": ""
             }
            },
            "type": "scattergl"
           }
          ],
          "scattermap": [
           {
            "marker": {
             "colorbar": {
              "outlinewidth": 0,
              "ticks": ""
             }
            },
            "type": "scattermap"
           }
          ],
          "scattermapbox": [
           {
            "marker": {
             "colorbar": {
              "outlinewidth": 0,
              "ticks": ""
             }
            },
            "type": "scattermapbox"
           }
          ],
          "scatterpolar": [
           {
            "marker": {
             "colorbar": {
              "outlinewidth": 0,
              "ticks": ""
             }
            },
            "type": "scatterpolar"
           }
          ],
          "scatterpolargl": [
           {
            "marker": {
             "colorbar": {
              "outlinewidth": 0,
              "ticks": ""
             }
            },
            "type": "scatterpolargl"
           }
          ],
          "scatterternary": [
           {
            "marker": {
             "colorbar": {
              "outlinewidth": 0,
              "ticks": ""
             }
            },
            "type": "scatterternary"
           }
          ],
          "surface": [
           {
            "colorbar": {
             "outlinewidth": 0,
             "ticks": ""
            },
            "colorscale": [
             [
              0,
              "#0d0887"
             ],
             [
              0.1111111111111111,
              "#46039f"
             ],
             [
              0.2222222222222222,
              "#7201a8"
             ],
             [
              0.3333333333333333,
              "#9c179e"
             ],
             [
              0.4444444444444444,
              "#bd3786"
             ],
             [
              0.5555555555555556,
              "#d8576b"
             ],
             [
              0.6666666666666666,
              "#ed7953"
             ],
             [
              0.7777777777777778,
              "#fb9f3a"
             ],
             [
              0.8888888888888888,
              "#fdca26"
             ],
             [
              1,
              "#f0f921"
             ]
            ],
            "type": "surface"
           }
          ],
          "table": [
           {
            "cells": {
             "fill": {
              "color": "#EBF0F8"
             },
             "line": {
              "color": "white"
             }
            },
            "header": {
             "fill": {
              "color": "#C8D4E3"
             },
             "line": {
              "color": "white"
             }
            },
            "type": "table"
           }
          ]
         },
         "layout": {
          "annotationdefaults": {
           "arrowcolor": "#2a3f5f",
           "arrowhead": 0,
           "arrowwidth": 1
          },
          "autotypenumbers": "strict",
          "coloraxis": {
           "colorbar": {
            "outlinewidth": 0,
            "ticks": ""
           }
          },
          "colorscale": {
           "diverging": [
            [
             0,
             "#8e0152"
            ],
            [
             0.1,
             "#c51b7d"
            ],
            [
             0.2,
             "#de77ae"
            ],
            [
             0.3,
             "#f1b6da"
            ],
            [
             0.4,
             "#fde0ef"
            ],
            [
             0.5,
             "#f7f7f7"
            ],
            [
             0.6,
             "#e6f5d0"
            ],
            [
             0.7,
             "#b8e186"
            ],
            [
             0.8,
             "#7fbc41"
            ],
            [
             0.9,
             "#4d9221"
            ],
            [
             1,
             "#276419"
            ]
           ],
           "sequential": [
            [
             0,
             "#0d0887"
            ],
            [
             0.1111111111111111,
             "#46039f"
            ],
            [
             0.2222222222222222,
             "#7201a8"
            ],
            [
             0.3333333333333333,
             "#9c179e"
            ],
            [
             0.4444444444444444,
             "#bd3786"
            ],
            [
             0.5555555555555556,
             "#d8576b"
            ],
            [
             0.6666666666666666,
             "#ed7953"
            ],
            [
             0.7777777777777778,
             "#fb9f3a"
            ],
            [
             0.8888888888888888,
             "#fdca26"
            ],
            [
             1,
             "#f0f921"
            ]
           ],
           "sequentialminus": [
            [
             0,
             "#0d0887"
            ],
            [
             0.1111111111111111,
             "#46039f"
            ],
            [
             0.2222222222222222,
             "#7201a8"
            ],
            [
             0.3333333333333333,
             "#9c179e"
            ],
            [
             0.4444444444444444,
             "#bd3786"
            ],
            [
             0.5555555555555556,
             "#d8576b"
            ],
            [
             0.6666666666666666,
             "#ed7953"
            ],
            [
             0.7777777777777778,
             "#fb9f3a"
            ],
            [
             0.8888888888888888,
             "#fdca26"
            ],
            [
             1,
             "#f0f921"
            ]
           ]
          },
          "colorway": [
           "#636efa",
           "#EF553B",
           "#00cc96",
           "#ab63fa",
           "#FFA15A",
           "#19d3f3",
           "#FF6692",
           "#B6E880",
           "#FF97FF",
           "#FECB52"
          ],
          "font": {
           "color": "#2a3f5f"
          },
          "geo": {
           "bgcolor": "white",
           "lakecolor": "white",
           "landcolor": "#E5ECF6",
           "showlakes": true,
           "showland": true,
           "subunitcolor": "white"
          },
          "hoverlabel": {
           "align": "left"
          },
          "hovermode": "closest",
          "mapbox": {
           "style": "light"
          },
          "paper_bgcolor": "white",
          "plot_bgcolor": "#E5ECF6",
          "polar": {
           "angularaxis": {
            "gridcolor": "white",
            "linecolor": "white",
            "ticks": ""
           },
           "bgcolor": "#E5ECF6",
           "radialaxis": {
            "gridcolor": "white",
            "linecolor": "white",
            "ticks": ""
           }
          },
          "scene": {
           "xaxis": {
            "backgroundcolor": "#E5ECF6",
            "gridcolor": "white",
            "gridwidth": 2,
            "linecolor": "white",
            "showbackground": true,
            "ticks": "",
            "zerolinecolor": "white"
           },
           "yaxis": {
            "backgroundcolor": "#E5ECF6",
            "gridcolor": "white",
            "gridwidth": 2,
            "linecolor": "white",
            "showbackground": true,
            "ticks": "",
            "zerolinecolor": "white"
           },
           "zaxis": {
            "backgroundcolor": "#E5ECF6",
            "gridcolor": "white",
            "gridwidth": 2,
            "linecolor": "white",
            "showbackground": true,
            "ticks": "",
            "zerolinecolor": "white"
           }
          },
          "shapedefaults": {
           "line": {
            "color": "#2a3f5f"
           }
          },
          "ternary": {
           "aaxis": {
            "gridcolor": "white",
            "linecolor": "white",
            "ticks": ""
           },
           "baxis": {
            "gridcolor": "white",
            "linecolor": "white",
            "ticks": ""
           },
           "bgcolor": "#E5ECF6",
           "caxis": {
            "gridcolor": "white",
            "linecolor": "white",
            "ticks": ""
           }
          },
          "title": {
           "x": 0.05
          },
          "xaxis": {
           "automargin": true,
           "gridcolor": "white",
           "linecolor": "white",
           "ticks": "",
           "title": {
            "standoff": 15
           },
           "zerolinecolor": "white",
           "zerolinewidth": 2
          },
          "yaxis": {
           "automargin": true,
           "gridcolor": "white",
           "linecolor": "white",
           "ticks": "",
           "title": {
            "standoff": 15
           },
           "zerolinecolor": "white",
           "zerolinewidth": 2
          }
         }
        }
       }
      }
     },
     "metadata": {},
     "output_type": "display_data"
    }
   ],
   "source": [
    "# might have to flip Y when going from MOCAP to NED?\n",
    "ex = np.array([np.min(pos),np.max(pos)])\n",
    "fig = px.scatter_3d(x=pos[:,0], y=pos[:,1], z=pos[:,2], color=np.arange(len(pos))).update_traces(marker=dict(size=1))\n",
    "fig.add_trace(px.scatter_3d(x=ex, y=ex, z=ex, opacity=0).data[0])\n",
    "fig.add_trace(px.line_3d(x=realg[:,0,0], y=realg[:,0,1], z=realg[:,0,2]).update_traces(line=dict(color='red')).data[0])\n",
    "fig.add_trace(px.line_3d(x=realg[:,1,0], y=realg[:,1,1], z=realg[:,1,2]).update_traces(line=dict(color='blue')).data[0])\n",
    "fig.add_trace(px.line_3d(x=realg[:,2,0], y=realg[:,2,1], z=realg[:,2,2]).update_traces(line=dict(color='green')).data[0])\n",
    "fig.add_trace(px.line_3d(x=retraj[:,0], y=retraj[:,1], z=retraj[:,2]).update_traces(line=dict(color='cyan')).data[0])\n",
    "fig.update_layout(scene=dict(zaxis=dict(autorange='reversed')))\n",
    "fig.update_layout(scene=dict(yaxis=dict(autorange='reversed')))"
   ]
  }
 ],
 "metadata": {
  "kernelspec": {
   "display_name": "nerfalt",
   "language": "python",
   "name": "python3"
  },
  "language_info": {
   "codemirror_mode": {
    "name": "ipython",
    "version": 3
   },
   "file_extension": ".py",
   "mimetype": "text/x-python",
   "name": "python",
   "nbconvert_exporter": "python",
   "pygments_lexer": "ipython3",
   "version": "3.12.9"
  }
 },
 "nbformat": 4,
 "nbformat_minor": 2
}
